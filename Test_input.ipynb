{
 "cells": [
  {
   "cell_type": "markdown",
   "id": "705e09f6",
   "metadata": {},
   "source": [
    "# TESTS"
   ]
  },
  {
   "cell_type": "markdown",
   "id": "5df903e2",
   "metadata": {},
   "source": [
    "### Imports"
   ]
  },
  {
   "cell_type": "code",
   "execution_count": 4,
   "id": "4bcb0ea2",
   "metadata": {},
   "outputs": [],
   "source": [
    "import cv2\n",
    "import numpy as np\n",
    "import matplotlib.pyplot as plt\n",
    "%matplotlib inline"
   ]
  },
  {
   "cell_type": "markdown",
   "id": "15be04a6",
   "metadata": {},
   "source": [
    "### Code from Contant Graspnet to visualize grasps with few modifications"
   ]
  },
  {
   "cell_type": "code",
   "execution_count": 5,
   "id": "a99b2c31",
   "metadata": {},
   "outputs": [
    {
     "name": "stderr",
     "output_type": "stream",
     "text": [
      "Failed to establish dbus connection"
     ]
    }
   ],
   "source": [
    "import mayavi.mlab as mlab\n",
    "\n",
    "\n",
    "def draw_grasps(grasps, cam_pose, gripper_openings, color=(0,1.,0), colors=None, show_gripper_mesh=False, tube_radius=0.0008):\n",
    "    \"\"\"\n",
    "    Draws wireframe grasps from given camera pose and with given gripper openings\n",
    "\n",
    "    Arguments:\n",
    "        grasps {np.ndarray} -- Nx4x4 grasp pose transformations\n",
    "        cam_pose {np.ndarray} -- 4x4 camera pose transformation\n",
    "        gripper_openings {np.ndarray} -- Nx1 gripper openings\n",
    "\n",
    "    Keyword Arguments:\n",
    "        color {tuple} -- color of all grasps (default: {(0,1.,0)})\n",
    "        colors {np.ndarray} -- Nx3 color of each grasp (default: {None})\n",
    "        tube_radius {float} -- Radius of the grasp wireframes (default: {0.0008})\n",
    "        show_gripper_mesh {bool} -- Renders the gripper mesh for one of the grasp poses (default: {False})\n",
    "    \"\"\"\n",
    "\n",
    "#     gripper = mesh_utils.create_gripper('panda')\n",
    "#     gripper_control_points = gripper.get_control_point_tensor(1, False, convex_hull=False).squeeze()\n",
    "    gripper_control_points = np.array([[[ 0.0000000e+00,  0.0000000e+00,  0.0000000e+00],\n",
    "                                        [ 5.2687433e-02, -5.9955313e-05,  5.8400001e-02],\n",
    "                                        [-5.2687433e-02,  5.9955313e-05,  5.8400001e-02],\n",
    "                                        [ 5.2687433e-02, -5.9955313e-05,  1.0527314e-01],\n",
    "                                        [-5.2687433e-02,  5.9955313e-05,  1.0527314e-01]]], dtype=np.float32)\n",
    "    gripper_control_points = gripper_control_points.squeeze()\n",
    "    mid_point = 0.5*(gripper_control_points[1, :] + gripper_control_points[2, :])\n",
    "    grasp_line_plot = np.array([np.zeros((3,)), mid_point, gripper_control_points[1], gripper_control_points[3], \n",
    "                                gripper_control_points[1], gripper_control_points[2], gripper_control_points[4]])\n",
    "\n",
    "    if show_gripper_mesh and len(grasps) > 0:\n",
    "        plot_mesh(gripper.hand, cam_pose, grasps[0])\n",
    "        \n",
    "    all_pts = []\n",
    "    connections = []\n",
    "    index = 0\n",
    "    N = 7\n",
    "    for i,(g,g_opening) in enumerate(zip(grasps, gripper_openings)):\n",
    "        gripper_control_points_closed = grasp_line_plot.copy()\n",
    "        gripper_control_points_closed[2:,0] = np.sign(grasp_line_plot[2:,0]) * g_opening/2\n",
    "        \n",
    "        pts = np.matmul(gripper_control_points_closed, g[:3, :3].T)\n",
    "        pts += np.expand_dims(g[:3, 3], 0)\n",
    "        pts_homog = np.concatenate((pts, np.ones((7, 1))),axis=1)\n",
    "        pts = np.dot(pts_homog, cam_pose.T)[:,:3]\n",
    "        \n",
    "        color = color if colors is None else colors[i]\n",
    "        \n",
    "        all_pts.append(pts)\n",
    "        connections.append(np.vstack([np.arange(index,   index + N - 1.5),\n",
    "                                      np.arange(index + 1, index + N - .5)]).T)\n",
    "        index += N\n",
    "        # mlab.plot3d(pts[:, 0], pts[:, 1], pts[:, 2], color=color, tube_radius=tube_radius, opacity=1.0)\n",
    "    \n",
    "    # speeds up plot3d because only one vtk object\n",
    "    all_pts = np.vstack(all_pts)\n",
    "    connections = np.vstack(connections)\n",
    "    src = mlab.pipeline.scalar_scatter(all_pts[:,0], all_pts[:,1], all_pts[:,2])\n",
    "    src.mlab_source.dataset.lines = connections\n",
    "    src.update()\n",
    "    lines =mlab.pipeline.tube(src, tube_radius=tube_radius, tube_sides=12)\n",
    "    mlab.pipeline.surface(lines, color=color, opacity=1.0)\n",
    "\n",
    "\n",
    "def plot_coordinates(t,r, tube_radius=0.005):\n",
    "    \"\"\"\n",
    "    plots coordinate frame\n",
    "\n",
    "    Arguments:\n",
    "        t {np.ndarray} -- translation vector\n",
    "        r {np.ndarray} -- rotation matrix\n",
    "\n",
    "    Keyword Arguments:\n",
    "        tube_radius {float} -- radius of the plotted tubes (default: {0.005})\n",
    "    \"\"\"\n",
    "    mlab.plot3d([t[0],t[0]+0.2*r[0,0]], [t[1],t[1]+0.2*r[1,0]], [t[2],t[2]+0.2*r[2,0]], color=(1,0,0), tube_radius=tube_radius, opacity=1)\n",
    "    mlab.plot3d([t[0],t[0]+0.2*r[0,1]], [t[1],t[1]+0.2*r[1,1]], [t[2],t[2]+0.2*r[2,1]], color=(0,1,0), tube_radius=tube_radius, opacity=1)\n",
    "    mlab.plot3d([t[0],t[0]+0.2*r[0,2]], [t[1],t[1]+0.2*r[1,2]], [t[2],t[2]+0.2*r[2,2]], color=(0,0,1), tube_radius=tube_radius, opacity=1)\n",
    "\n",
    "def draw_pc_with_colors(pc, pc_colors=None, single_color=(0.3,0.3,0.3), mode='2dsquare', scale_factor=0.0018):\n",
    "    \"\"\"\n",
    "    Draws colored point clouds\n",
    "\n",
    "    Arguments:\n",
    "        pc {np.ndarray} -- Nx3 point cloud\n",
    "        pc_colors {np.ndarray} -- Nx3 point cloud colors\n",
    "\n",
    "    Keyword Arguments:\n",
    "        single_color {tuple} -- single color for point cloud (default: {(0.3,0.3,0.3)})\n",
    "        mode {str} -- primitive type to plot (default: {'point'})\n",
    "        scale_factor {float} -- Scale of primitives. Does not work for points. (default: {0.002})\n",
    "\n",
    "    \"\"\"\n",
    "\n",
    "    if pc_colors is None:\n",
    "        mlab.points3d(pc[:, 0], pc[:, 1], pc[:, 2], color=single_color, scale_factor=scale_factor, mode=mode)\n",
    "    else:\n",
    "        #create direct grid as 256**3 x 4 array \n",
    "        def create_8bit_rgb_lut():\n",
    "            xl = np.mgrid[0:256, 0:256, 0:256]\n",
    "            lut = np.vstack((xl[0].reshape(1, 256**3),\n",
    "                                xl[1].reshape(1, 256**3),\n",
    "                                xl[2].reshape(1, 256**3),\n",
    "                                255 * np.ones((1, 256**3)))).T\n",
    "            return lut.astype('int32')\n",
    "        \n",
    "        scalars = pc_colors[:,0]*256**2 + pc_colors[:,1]*256 + pc_colors[:,2]\n",
    "        rgb_lut = create_8bit_rgb_lut()\n",
    "        points_mlab = mlab.points3d(pc[:, 0], pc[:, 1], pc[:, 2], scalars, mode=mode, scale_factor=.0018)\n",
    "        points_mlab.glyph.scale_mode = 'scale_by_vector'\n",
    "        points_mlab.module_manager.scalar_lut_manager.lut._vtk_obj.SetTableRange(0, rgb_lut.shape[0])\n",
    "        points_mlab.module_manager.scalar_lut_manager.lut.number_of_colors = rgb_lut.shape[0]\n",
    "        points_mlab.module_manager.scalar_lut_manager.lut.table = rgb_lut\n",
    "\n",
    "def visualize_grasps(full_pc, pred_grasps_cam, scores, plot_opencv_cam=False, pc_colors=None, gripper_openings=None, gripper_width=0.08):\n",
    "    \"\"\"Visualizes colored point cloud and predicted grasps. If given, colors grasps by segmap regions. \n",
    "    Thick grasp is most confident per segment. For scene point cloud predictions, colors grasps according to confidence.\n",
    "\n",
    "    Arguments:\n",
    "        full_pc {np.ndarray} -- Nx3 point cloud of the scene\n",
    "        pred_grasps_cam {dict[int:np.ndarray]} -- Predicted 4x4 grasp trafos per segment or for whole point cloud\n",
    "        scores {dict[int:np.ndarray]} -- Confidence scores for grasps\n",
    "\n",
    "    Keyword Arguments:\n",
    "        plot_opencv_cam {bool} -- plot camera coordinate frame (default: {False})\n",
    "        pc_colors {np.ndarray} -- Nx3 point cloud colors (default: {None})\n",
    "        gripper_openings {dict[int:np.ndarray]} -- Predicted grasp widths (default: {None})\n",
    "        gripper_width {float} -- If gripper_openings is None, plot grasp widths (default: {0.008})\n",
    "    \"\"\"\n",
    "\n",
    "    print('Visualizing...takes time')\n",
    "    cm = plt.get_cmap('rainbow')\n",
    "    cm2 = plt.get_cmap('gist_rainbow')\n",
    "   \n",
    "    fig = mlab.figure('Pred Grasps')\n",
    "    mlab.view(azimuth=180, elevation=180, distance=0.2)\n",
    "    draw_pc_with_colors(full_pc, pc_colors)\n",
    "    colors = [cm(1. * i/len(pred_grasps_cam))[:3] for i in range(len(pred_grasps_cam))]\n",
    "    colors2 = {k:cm2(0.5*np.max(scores[k]))[:3] for k in pred_grasps_cam if np.any(pred_grasps_cam[k])}\n",
    "    \n",
    "    if plot_opencv_cam:\n",
    "        plot_coordinates(np.zeros(3,),np.eye(3,3))\n",
    "    for i,k in enumerate(pred_grasps_cam):\n",
    "        if np.any(pred_grasps_cam[k]):\n",
    "            gripper_openings_k = np.ones(len(pred_grasps_cam[k]))*gripper_width if gripper_openings is None else gripper_openings[k]\n",
    "            if len(pred_grasps_cam) > 1:\n",
    "                draw_grasps(pred_grasps_cam[k], np.eye(4), color=colors[i], gripper_openings=gripper_openings_k)    \n",
    "                draw_grasps([pred_grasps_cam[k][np.argmax(scores[k])]], np.eye(4), color=colors2[k], \n",
    "                            gripper_openings=[gripper_openings_k[np.argmax(scores[k])]], tube_radius=0.0025)    \n",
    "            else:\n",
    "                colors3 = [cm2(0.5*score)[:3] for score in scores[k]]\n",
    "                draw_grasps(pred_grasps_cam[k], np.eye(4), colors=colors3, gripper_openings=gripper_openings_k)    \n",
    "    mlab.show()"
   ]
  },
  {
   "cell_type": "markdown",
   "id": "cf95326a",
   "metadata": {},
   "source": [
    "### Load masks from detectron"
   ]
  },
  {
   "cell_type": "code",
   "execution_count": 6,
   "id": "63005760",
   "metadata": {},
   "outputs": [],
   "source": [
    "mask_cucumber = cv2.imread(\"/home/avena/Dropbox/DETECTRON/New_masks_for_tests/mask_1.png\")\n",
    "mask_cucumber = cv2.cvtColor(mask_cucumber, cv2.COLOR_BGR2GRAY)\n",
    "mask_banana = cv2.imread(\"/home/avena/Dropbox/DETECTRON/New_masks_for_tests/mask_0.png\")\n",
    "mask_banana = cv2.cvtColor(mask_banana, cv2.COLOR_BGR2GRAY)"
   ]
  },
  {
   "cell_type": "code",
   "execution_count": 7,
   "id": "cd9b5b7a",
   "metadata": {},
   "outputs": [
    {
     "data": {
      "text/plain": [
       "<matplotlib.image.AxesImage at 0x7f807f58a400>"
      ]
     },
     "execution_count": 7,
     "metadata": {},
     "output_type": "execute_result"
    },
    {
     "data": {
      "image/png": "[encoded data removed]",
      "text/plain": [
       "<Figure size 432x288 with 1 Axes>"
      ]
     },
     "metadata": {
      "needs_background": "light"
     },
     "output_type": "display_data"
    }
   ],
   "source": [
    "plt.imshow(mask_banana, cmap='gray')"
   ]
  },
  {
   "cell_type": "markdown",
   "id": "7153d639",
   "metadata": {},
   "source": [
    "### Load ortho rgb and ortho depth"
   ]
  },
  {
   "cell_type": "code",
   "execution_count": 8,
   "id": "93830c09",
   "metadata": {},
   "outputs": [],
   "source": [
    "points = cv2.imread(\"/home/avena/vision3/1642671173613223239_depth.png\", cv2.IMREAD_UNCHANGED)\n",
    "rgb = cv2.imread(\"/home/avena/vision3/1642671173613223239_color.png\")\n",
    "rgb = cv2.cvtColor(rgb, cv2.COLOR_BGR2RGB)"
   ]
  },
  {
   "cell_type": "code",
   "execution_count": 9,
   "id": "a46233ae",
   "metadata": {},
   "outputs": [
    {
     "data": {
      "text/plain": [
       "<matplotlib.image.AxesImage at 0x7f807f4ef820>"
      ]
     },
     "execution_count": 9,
     "metadata": {},
     "output_type": "execute_result"
    },
    {
     "data": {
      "image/png": "[encoded data removed]",
      "text/plain": [
       "<Figure size 432x288 with 1 Axes>"
      ]
     },
     "metadata": {
      "needs_background": "light"
     },
     "output_type": "display_data"
    }
   ],
   "source": [
    "plt.imshow(rgb)"
   ]
  },
  {
   "cell_type": "code",
   "execution_count": 10,
   "id": "b900a94d",
   "metadata": {},
   "outputs": [
    {
     "data": {
      "text/plain": [
       "(1875, 1176)"
      ]
     },
     "execution_count": 10,
     "metadata": {},
     "output_type": "execute_result"
    }
   ],
   "source": [
    "points.shape"
   ]
  },
  {
   "cell_type": "markdown",
   "id": "76dfc106",
   "metadata": {},
   "source": [
    "### Make point cloud from ortho"
   ]
  },
  {
   "cell_type": "code",
   "execution_count": 12,
   "id": "cef4e8a2",
   "metadata": {},
   "outputs": [],
   "source": [
    "scale_factor = 80 / 100\n",
    "\n",
    "points_array_trim = []\n",
    "\n",
    "colors_array_trim = []\n",
    "\n",
    "\n",
    "for y in range(points.shape[0]):\n",
    "    for x in range(points.shape[1]):\n",
    "        if points[y, x] == 0:\n",
    "            continue\n",
    "        \n",
    "        points_array_trim.append([x / 1000 * scale_factor,\n",
    "                                  y / 1000 * scale_factor,\n",
    "                                  points[y, x] / 1000 * scale_factor])\n",
    "        colors_array_trim.append(rgb[y, x, :])\n",
    "        \n",
    "points_array_trim = np.array(points_array_trim)\n",
    "colors_array_trim = np.array(colors_array_trim)   "
   ]
  },
  {
   "cell_type": "markdown",
   "id": "70b65d39",
   "metadata": {},
   "source": [
    "### Prepare data for ContantGraspnet"
   ]
  },
  {
   "cell_type": "code",
   "execution_count": 13,
   "id": "ee1e2ed6",
   "metadata": {},
   "outputs": [],
   "source": [
    "final_data = {\"xyz\": points_array_trim, \"xyz_color\": colors_array_trim}"
   ]
  },
  {
   "cell_type": "markdown",
   "id": "0a3f7870",
   "metadata": {},
   "source": [
    "### Save data"
   ]
  },
  {
   "cell_type": "code",
   "execution_count": 14,
   "id": "9e70fa42",
   "metadata": {},
   "outputs": [],
   "source": [
    "with open(\"/home/avena/vision3/final_data.npy\", \"wb\") as f:\n",
    "    np.save(f, final_data)"
   ]
  },
  {
   "cell_type": "markdown",
   "id": "080b6631",
   "metadata": {},
   "source": [
    "### Load grasps and scores from Contact Graspnet"
   ]
  },
  {
   "cell_type": "code",
   "execution_count": 15,
   "id": "f578b8f7",
   "metadata": {},
   "outputs": [],
   "source": [
    "with np.load('/home/avena/software/contact_graspnet/results/predictions_final_data.npz', allow_pickle=True) as data:\n",
    "#     grasps = list(data['pred_grasps_cam'].item().values())[0]\n",
    "    grasps = data['pred_grasps_cam'].item()\n",
    "#     scores = list(data['scores'].item().values())[0]\n",
    "    scores = data['scores'].item()\n"
   ]
  },
  {
   "cell_type": "markdown",
   "id": "426b5333",
   "metadata": {},
   "source": [
    "### Show all grasps"
   ]
  },
  {
   "cell_type": "code",
   "execution_count": 41,
   "id": "a9a13507",
   "metadata": {},
   "outputs": [
    {
     "name": "stdout",
     "output_type": "stream",
     "text": [
      "Visualizing...takes time\n"
     ]
    }
   ],
   "source": [
    "visualize_grasps(points_array_trim, grasps, scores, plot_opencv_cam=True, pc_colors=colors_array_trim)"
   ]
  },
  {
   "cell_type": "markdown",
   "id": "8b8ca9c7",
   "metadata": {},
   "source": [
    "## This is function for filtering grasps"
   ]
  },
  {
   "cell_type": "code",
   "execution_count": 37,
   "id": "64a70034",
   "metadata": {},
   "outputs": [],
   "source": [
    "def filter_grasps(grasps, scores, mask, mask_filter_policy=1, final_filter_policy=1, scale_factor=0.8):\n",
    "    \"\"\"\n",
    "    This function returns one best grasp, for given object. Filtration is done based on various policies, \n",
    "    which might be chosen by the user.\n",
    "    \n",
    "    First step is to filter all grasps outside the mask. There are few ways to bound mask region.\n",
    "        1. Contours\n",
    "        2. Rotated Bounding Box\n",
    "        3. Axis Aligned Bouding Box\n",
    "    They are listed from the most restrictive to the most liberative.\n",
    "    User can set mask_filter)policy, to decide which policy to use.\n",
    "    \n",
    "    Second step is to get best grasp from legal ones. There two options:\n",
    "        1. Grasp closest to the center point of region,\n",
    "        2. Grasp with highest confidence score.\n",
    "    User can choose policy be setting final_filter_policy.\n",
    "    \n",
    "    \n",
    "    :param grasps Dict of predicted grasps from Contact Graspnet. Key must be -1\n",
    "    :param scores Dict of scores for each grasp from Contant Graspnet. Key must be -1\n",
    "    :param mask Binary segmentation mask, in orthoview\n",
    "    :param mask_filter_policy parameter which can choosen from 1, 2 or 3 to set the mask filtering policy. Default 1\n",
    "    :param final_filter_policy parameter which can choosen from 1 or 2 to set the final filtering policy. Default 1\n",
    "    :param scale_factor Float describing how much point cloud was squeezed for interference from Contact Graspnet\n",
    "    \n",
    "    :returns Dict which key is -1 and value is best grasp, based on chosen policies.\n",
    "    \"\"\"\n",
    "    if mask_filter_policy < 1 or mask_filter_policy > 3:\n",
    "        raise ValueError(\"Mask filter policy must be from range 1-3\")\n",
    "    if final_filter_policy < 1 or final_filter_policy > 2:\n",
    "        raise ValueError(\"Final filter polocy must be from range 1-2\")\n",
    "    \n",
    "    assert len(grasps) == len(scores), \"Grasp and scores must be of same size\"\n",
    "    assert len(mask.shape) == 2, \"Mask must be of binary format\"\n",
    "    \n",
    "    # Compute contours of a mask\n",
    "    contours, hierarchy = cv2.findContours(mask, cv2.RETR_TREE, cv2.CHAIN_APPROX_SIMPLE)\n",
    "    assert len(contours) == 1, \"More than 1 contour detected, please check if mask is consistent\"\n",
    "    contours = contours[0].reshape(-1, 2)\n",
    "    \n",
    "    # 1. Contours\n",
    "    if mask_filter_policy == 1:\n",
    "        allowed_area = contours\n",
    "        \n",
    "    # 2. Rotated Bounding Box\n",
    "    elif mask_filter_policy == 2:\n",
    "        \n",
    "        min_area_rect = cv2.minAreaRect(contours)\n",
    "        rotatedBB = cv2.boxPoints(min_area_rect)\n",
    "        allowed_area = np.intp(rotatedBB)\n",
    "        \n",
    "    # 3. Axis Aligned Bounding Box\n",
    "    elif mask_filter_policy == 3:\n",
    "        *corner, w, h = cv2.boundingRect(mask)\n",
    "        bounding_box_points = [corner, \n",
    "                              [corner[0] + w, corner[1]],\n",
    "                              [corner[0] + w, corner[1] + h], \n",
    "                              [corner[0], corner[1] + h]]\n",
    "        allowed_area = np.array(bounding_box_points)\n",
    "        \n",
    "    # We are operating on orthoview. It means that X and Y in pointcloud \n",
    "    # corespond to pixel position in the mask image. Thus, we can compare points in point cloud\n",
    "    # to area in mask image.\n",
    "    \n",
    "    # make list that will be storing legal grasps\n",
    "    allowed_grasps_indices = []\n",
    "    \n",
    "    # get grasps and scores arrays, because they are stored in dict.\n",
    "    grasps = grasps[-1]\n",
    "    scores = scores[-1]\n",
    "    \n",
    "    # iterate over all grasps\n",
    "    for i, grasp in enumerate(grasps):\n",
    "        # multiply points times 1000, to get back from mm to pixels\n",
    "        grasp_point = (int(grasp[0][3] * 1000 * (1 / scale_factor)), int(grasp[1][3] * 1000 * (1 / scale_factor)))\n",
    "        # check if X Y of grasp is inside legal area\n",
    "        valid = cv2.pointPolygonTest(allowed_area, grasp_point, measureDist=False)\n",
    "        # add grasp to list of legal if valid is non-negative. It means that grasp is inside the region.\n",
    "        if valid >= 0:\n",
    "            allowed_grasps_indices.append(i)\n",
    "    # get the legal grasps by indicies\n",
    "    legal_grasps = grasps[allowed_grasps_indices]\n",
    "    legal_grasps_scores = scores[allowed_grasps_indices]\n",
    "    \n",
    "    \n",
    "    # Final filter policy implements two solutions:\n",
    "    # 1. Compute the middle point of allowed area and get grasp which is the closes to the middle point\n",
    "    # 2. Get the grasp with the biggest confidence score\n",
    "    \n",
    "    if final_filter_policy == 1:\n",
    "        \n",
    "        # Compute middle point of the mask\n",
    "        M = cv2.moments(contours)\n",
    "        cx = round(M['m10'] / M['m00'])\n",
    "        cy = round(M['m01'] / M['m00'])\n",
    "        \n",
    "        # Compute distance for each grasp\n",
    "        distance = []\n",
    "        for legal_grasp in legal_grasps:\n",
    "            d = np.linalg.norm(np.array([cx, cy]) - np.array([int(legal_grasp[0][3] * 1000 * (1 / scale_factor)), int(legal_grasp[1][3] * 1000 * (1 / scale_factor))]))\n",
    "            distance.append(d)\n",
    "        \n",
    "        # Get ID of minimum distance\n",
    "        best_grasp_idx = distance.index(min(distance))\n",
    "    \n",
    "    if final_filter_policy == 2:\n",
    "        # Get the biggest confidence score \n",
    "        legal_grasps_scores = list(legal_grasps_scores)\n",
    "        best_grasp_idx = legal_grasps_scores.index(max(legal_grasps_scores))\n",
    "        \n",
    "    # go back to dict, for visualization\n",
    "    return {-1: [legal_grasps[best_grasp_idx]]}"
   ]
  },
  {
   "cell_type": "code",
   "execution_count": 40,
   "id": "1e8f7c9e",
   "metadata": {},
   "outputs": [
    {
     "name": "stdout",
     "output_type": "stream",
     "text": [
      "Visualizing...takes time\n"
     ]
    }
   ],
   "source": [
    "visualize_grasps(points_array_trim, \n",
    "                 filter_grasps(grasps, scores, mask_banana, mask_filter_policy=1, final_filter_policy=2, scale_factor=0.8), \n",
    "                 scores, plot_opencv_cam=True, \n",
    "                 pc_colors=colors_array_trim)"
   ]
  }
 ],
 "metadata": {
  "kernelspec": {
   "display_name": "Python 3 (ipykernel)",
   "language": "python",
   "name": "python3"
  },
  "language_info": {
   "codemirror_mode": {
    "name": "ipython",
    "version": 3
   },
   "file_extension": ".py",
   "mimetype": "text/x-python",
   "name": "python",
   "nbconvert_exporter": "python",
   "pygments_lexer": "ipython3",
   "version": "3.8.12"
  }
 },
 "nbformat": 4,
 "nbformat_minor": 5
}
